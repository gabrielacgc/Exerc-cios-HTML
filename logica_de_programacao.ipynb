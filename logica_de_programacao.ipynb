{
  "nbformat": 4,
  "nbformat_minor": 0,
  "metadata": {
    "colab": {
      "provenance": [],
      "authorship_tag": "ABX9TyMAcRfGhFgzWSYKcTUwZDHY",
      "include_colab_link": true
    },
    "kernelspec": {
      "name": "python3",
      "display_name": "Python 3"
    },
    "language_info": {
      "name": "python"
    }
  },
  "cells": [
    {
      "cell_type": "markdown",
      "metadata": {
        "id": "view-in-github",
        "colab_type": "text"
      },
      "source": [
        "<a href=\"https://colab.research.google.com/github/gabrielacgc/Exerc-cios-HTML/blob/main/logica_de_programacao.ipynb\" target=\"_parent\"><img src=\"https://colab.research.google.com/assets/colab-badge.svg\" alt=\"Open In Colab\"/></a>"
      ]
    },
    {
      "cell_type": "markdown",
      "source": [
        "**Lógica** **de** **Programação**"
      ],
      "metadata": {
        "id": "rTqaVzBZNebR"
      }
    },
    {
      "cell_type": "code",
      "source": [
        "mensagem = \"Olá Mundo!\"\n",
        "\n",
        "print(mensagem)\n"
      ],
      "metadata": {
        "id": "e8C6jYZKSBfp"
      },
      "execution_count": null,
      "outputs": []
    },
    {
      "cell_type": "code",
      "source": [
        "number = int(input('Digite um numero:   '))\n",
        "\n",
        "print(f'O número informado foi... {number}')\n",
        "\n"
      ],
      "metadata": {
        "id": "wa4SJYSJWk_y"
      },
      "execution_count": null,
      "outputs": []
    },
    {
      "cell_type": "code",
      "execution_count": null,
      "metadata": {
        "id": "WJMsO7zW1tFH"
      },
      "outputs": [],
      "source": [
        "nome = input('Qual é o seu nome?    ')\n",
        "idade = int(input('Qual é o seu ano de nascimento?  '))\n",
        "\n",
        "\n",
        "resultado = 2024 - idade\n",
        "\n",
        "\n",
        "print(f'{nome}, sua idade é {resultado} anos')\n"
      ]
    },
    {
      "cell_type": "code",
      "source": [
        "nome = input('Digite seu nome completo:  ')\n",
        "matricula = int(input('Digite sua matricula: '))\n",
        "disciplina = input('Informe a disciplina: ')\n",
        "\n",
        "nota1 = int(input('Digite as notas obtidas no 1º Semestre: '))\n",
        "\n",
        "nota2 = int(input('Digite as notas obtidas no 2º Semestre: '))\n",
        "\n",
        "media = 2\n",
        "\n",
        "resultado = nota1 + nota2 / media\n",
        "\n",
        "print(f'Olá {nome}, matricula {matricula} a média das notas da disciplina {disciplina} do 1º e 2º Semestre de 2023 foram {resultado}')"
      ],
      "metadata": {
        "id": "2-KY5puWLR5o"
      },
      "execution_count": null,
      "outputs": []
    },
    {
      "cell_type": "code",
      "source": [
        "metros1 = int(input('Informe a distância em metros:   '))\n",
        "\n",
        "calculo = metros1 * 100\n",
        "\n",
        "print(f'O valor da conversão de metros para centimetros é {calculo}')"
      ],
      "metadata": {
        "id": "U8VbgXU-SpMQ"
      },
      "execution_count": null,
      "outputs": []
    },
    {
      "cell_type": "code",
      "source": [
        "celsius = float(input('Digite a temperatura em celsius: '))\n",
        "fahrenheit\n",
        "\n",
        "\n",
        "celsius = (fahrenheit - 32) * 5/9\n",
        "\n",
        "print(f'A temperatura convertida em fahnrenheit é {celsius}')\n",
        "\n"
      ],
      "metadata": {
        "id": "83DDokbavLm1"
      },
      "execution_count": null,
      "outputs": []
    },
    {
      "cell_type": "markdown",
      "source": [
        "Faça um Programa que converta metros para centímetros."
      ],
      "metadata": {
        "id": "Mdd8GXWKeAyz"
      }
    },
    {
      "cell_type": "code",
      "source": [],
      "metadata": {
        "id": "-l8BhvPGd89p"
      },
      "execution_count": null,
      "outputs": []
    },
    {
      "cell_type": "markdown",
      "source": [],
      "metadata": {
        "id": "9NZqYQ_VeCip"
      }
    },
    {
      "cell_type": "markdown",
      "source": [
        "Faça um Programa que peça o raio de um círculo, calcule e mostre sua área.\n"
      ],
      "metadata": {
        "id": "-xCgtfVseOir"
      }
    },
    {
      "cell_type": "code",
      "source": [],
      "metadata": {
        "id": "PDlAzWjOeUiL"
      },
      "execution_count": null,
      "outputs": []
    },
    {
      "cell_type": "markdown",
      "source": [],
      "metadata": {
        "id": "-vT_RbeDeVA-"
      }
    }
  ]
}